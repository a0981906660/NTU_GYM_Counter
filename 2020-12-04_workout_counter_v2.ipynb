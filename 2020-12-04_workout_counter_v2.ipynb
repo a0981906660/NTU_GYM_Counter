{
 "cells": [
  {
   "cell_type": "markdown",
   "metadata": {},
   "source": [
    "# 新體健身房人數即時推送及統計\n",
    "\n",
    "* https://ntusportscenter.ntu.edu.tw/#/\n",
    "\n",
    "* key: zTVbyzGgrcE5WOwiUQJoO38UdUYXvL1yI98TGyUDXwR"
   ]
  },
  {
   "cell_type": "code",
   "execution_count": 1,
   "metadata": {},
   "outputs": [],
   "source": [
    "import requests\n",
    "from bs4 import BeautifulSoup\n",
    "from selenium import webdriver\n",
    "from selenium.webdriver.support.ui import WebDriverWait\n",
    "from selenium.webdriver.common.keys import Keys\n",
    "from selenium.webdriver.support.ui import Select\n",
    "import pandas as pd\n",
    "import numpy as np\n",
    "import time\n",
    "import re\n",
    "import datetime\n",
    "import sqlite3 as lite\n",
    "import os\n",
    "import random\n",
    "import calendar"
   ]
  },
  {
   "cell_type": "code",
   "execution_count": 2,
   "metadata": {},
   "outputs": [
    {
     "name": "stderr",
     "output_type": "stream",
     "text": [
      "<ipython-input-2-83b51e2af0ea>:22: DeprecationWarning: executable_path has been deprecated, please pass in a Service object\n",
      "  driver = webdriver.Chrome('/usr/lib/chromium-browser/chromedriver', chrome_options=options)\n",
      "<ipython-input-2-83b51e2af0ea>:22: DeprecationWarning: use options instead of chrome_options\n",
      "  driver = webdriver.Chrome('/usr/lib/chromium-browser/chromedriver', chrome_options=options)\n"
     ]
    }
   ],
   "source": [
    "url = \"https://ntusportscenter.ntu.edu.tw\"\n",
    "\n",
    "# Open Browser and open udn library #打開瀏覽器，但不要載入圖片\n",
    "options = webdriver.ChromeOptions()\n",
    "prefs = {\n",
    "    'profile.default_content_setting_values': {\n",
    "        #'images': 2,\n",
    "        #'javascript': 2\n",
    "    }\n",
    "}\n",
    "options.add_experimental_option('prefs', prefs)\n",
    "\n",
    "# 偽裝header\n",
    "user_agent = \"Mozilla/5.0 (Macintosh; Intel Mac OS X 10_13_6) AppleWebKit/605.1.15 (KHTML, like Gecko) Version/12.0.3 Safari/605.1.15\"\n",
    "options.add_argument('--user-agent=%s' % user_agent)\n",
    "# 防止 javascript detect selenium\n",
    "options.add_experimental_option('excludeSwitches', ['enable-automation'])\n",
    "# headless\n",
    "options.add_argument('-headless')\n",
    "\n",
    "global driver\n",
    "driver = webdriver.Chrome('/usr/lib/chromium-browser/chromedriver', chrome_options=options)"
   ]
  },
  {
   "cell_type": "markdown",
   "metadata": {},
   "source": [
    "## Scraping\n",
    "\n",
    "抓取即時的人數統計"
   ]
  },
  {
   "cell_type": "code",
   "execution_count": 3,
   "metadata": {},
   "outputs": [],
   "source": [
    "# 健身中心人數\n",
    "driver.get(url)\n",
    "soup = BeautifulSoup(driver.page_source, 'lxml')\n",
    "#driver.find_element_by_xpath(\"\"\"//*[@id=\"home_index\"]/div[1]/div[1]/div[3]/div/div/div[1]/div[2]/div[2]/text()[1]\"\"\")"
   ]
  },
  {
   "cell_type": "code",
   "execution_count": 4,
   "metadata": {},
   "outputs": [
    {
     "data": {
      "text/plain": [
       "'\\n                    健身中心現在人數：79\\n                    健身中心最適人數：82\\n                    健身中心最大乘載人數：111\\n                    室內游泳池現在人數：59\\n                    室內游泳池最適人數：42\\n                    室內游泳池最大乘載人數：70'"
      ]
     },
     "execution_count": 4,
     "metadata": {},
     "output_type": "execute_result"
    }
   ],
   "source": [
    "count = soup.select(\"#home_index > div.allinbg > div.allin > div.condis > div > div > div:nth-child(1) > div:nth-child(2) > div:nth-child(2)\")[0].text\n",
    "count"
   ]
  },
  {
   "cell_type": "code",
   "execution_count": 5,
   "metadata": {},
   "outputs": [
    {
     "data": {
      "text/plain": [
       "{'健身中心現在人數': 79,\n",
       " '健身中心最適人數': 82,\n",
       " '健身中心最大乘載人數': 111,\n",
       " '室內游泳池現在人數': 59,\n",
       " '室內游泳池最適人數': 42,\n",
       " '室內游泳池最大乘載人數': 70}"
      ]
     },
     "execution_count": 5,
     "metadata": {},
     "output_type": "execute_result"
    }
   ],
   "source": [
    "count_dict = {}\n",
    "#keys = [\"ppl_gym_now\", ]\n",
    "for c in count.split(\"\\n\"):\n",
    "    c = c.strip()\n",
    "    if len(c)==0:\n",
    "        continue\n",
    "    #print(c)\n",
    "    #print(c.split(\"：\")[0], c.split(\"：\")[-1])\n",
    "    key = c.split(\"：\")[0]\n",
    "    value = int(c.split(\"：\")[-1])\n",
    "    count_dict[key] = value\n",
    "count_dict"
   ]
  },
  {
   "cell_type": "code",
   "execution_count": 6,
   "metadata": {},
   "outputs": [
    {
     "data": {
      "text/plain": [
       "79"
      ]
     },
     "execution_count": 6,
     "metadata": {},
     "output_type": "execute_result"
    }
   ],
   "source": [
    "count_dict['健身中心現在人數']"
   ]
  },
  {
   "cell_type": "markdown",
   "metadata": {},
   "source": [
    "## Recording as a temperary file\n",
    "\n",
    "存檔並統計週期、抓pattern"
   ]
  },
  {
   "cell_type": "code",
   "execution_count": 7,
   "metadata": {},
   "outputs": [],
   "source": [
    "count_dict[\"現在時刻\"] = datetime.datetime.today().strftime(\"%Y-%m-%d %H:%M\")\n",
    "#datetime.datetime.today().strftime(\"%Y-%m-%d %H:%M\")"
   ]
  },
  {
   "cell_type": "code",
   "execution_count": 8,
   "metadata": {},
   "outputs": [
    {
     "data": {
      "text/plain": [
       "['健身中心現在人數',\n",
       " '健身中心最適人數',\n",
       " '健身中心最大乘載人數',\n",
       " '室內游泳池現在人數',\n",
       " '室內游泳池最適人數',\n",
       " '室內游泳池最大乘載人數',\n",
       " '現在時刻']"
      ]
     },
     "execution_count": 8,
     "metadata": {},
     "output_type": "execute_result"
    }
   ],
   "source": [
    "colnam = list(count_dict.keys())\n",
    "colnam"
   ]
  },
  {
   "cell_type": "code",
   "execution_count": 9,
   "metadata": {},
   "outputs": [],
   "source": [
    "#df = pd.DataFrame(columns=colnam)\n",
    "#df"
   ]
  },
  {
   "cell_type": "code",
   "execution_count": 10,
   "metadata": {},
   "outputs": [
    {
     "data": {
      "text/html": [
       "<div>\n",
       "<style scoped>\n",
       "    .dataframe tbody tr th:only-of-type {\n",
       "        vertical-align: middle;\n",
       "    }\n",
       "\n",
       "    .dataframe tbody tr th {\n",
       "        vertical-align: top;\n",
       "    }\n",
       "\n",
       "    .dataframe thead th {\n",
       "        text-align: right;\n",
       "    }\n",
       "</style>\n",
       "<table border=\"1\" class=\"dataframe\">\n",
       "  <thead>\n",
       "    <tr style=\"text-align: right;\">\n",
       "      <th></th>\n",
       "      <th>健身中心現在人數</th>\n",
       "      <th>健身中心最適人數</th>\n",
       "      <th>健身中心最大乘載人數</th>\n",
       "      <th>室內游泳池現在人數</th>\n",
       "      <th>室內游泳池最適人數</th>\n",
       "      <th>室內游泳池最大乘載人數</th>\n",
       "    </tr>\n",
       "    <tr>\n",
       "      <th>現在時刻</th>\n",
       "      <th></th>\n",
       "      <th></th>\n",
       "      <th></th>\n",
       "      <th></th>\n",
       "      <th></th>\n",
       "      <th></th>\n",
       "    </tr>\n",
       "  </thead>\n",
       "  <tbody>\n",
       "    <tr>\n",
       "      <th>2020-12-04 17:01</th>\n",
       "      <td>79</td>\n",
       "      <td>82</td>\n",
       "      <td>111</td>\n",
       "      <td>59</td>\n",
       "      <td>42</td>\n",
       "      <td>70</td>\n",
       "    </tr>\n",
       "  </tbody>\n",
       "</table>\n",
       "</div>"
      ],
      "text/plain": [
       "                  健身中心現在人數  健身中心最適人數  健身中心最大乘載人數  室內游泳池現在人數  室內游泳池最適人數  \\\n",
       "現在時刻                                                                     \n",
       "2020-12-04 17:01        79        82         111         59         42   \n",
       "\n",
       "                  室內游泳池最大乘載人數  \n",
       "現在時刻                           \n",
       "2020-12-04 17:01           70  "
      ]
     },
     "execution_count": 10,
     "metadata": {},
     "output_type": "execute_result"
    }
   ],
   "source": [
    "tmp = pd.DataFrame.from_dict([count_dict])\n",
    "tmp = tmp.set_index(\"現在時刻\")\n",
    "tmp"
   ]
  },
  {
   "cell_type": "code",
   "execution_count": 11,
   "metadata": {},
   "outputs": [],
   "source": [
    "tmp.to_csv(\"/home/ubuntu/Python_Codes/work_out_timer/NTU_GYM_Counter_tmp.csv\")"
   ]
  },
  {
   "cell_type": "markdown",
   "metadata": {},
   "source": [
    "## Loading and Updating"
   ]
  },
  {
   "cell_type": "code",
   "execution_count": 12,
   "metadata": {},
   "outputs": [
    {
     "data": {
      "text/html": [
       "<div>\n",
       "<style scoped>\n",
       "    .dataframe tbody tr th:only-of-type {\n",
       "        vertical-align: middle;\n",
       "    }\n",
       "\n",
       "    .dataframe tbody tr th {\n",
       "        vertical-align: top;\n",
       "    }\n",
       "\n",
       "    .dataframe thead th {\n",
       "        text-align: right;\n",
       "    }\n",
       "</style>\n",
       "<table border=\"1\" class=\"dataframe\">\n",
       "  <thead>\n",
       "    <tr style=\"text-align: right;\">\n",
       "      <th></th>\n",
       "      <th>健身中心現在人數</th>\n",
       "      <th>健身中心最適人數</th>\n",
       "      <th>健身中心最大乘載人數</th>\n",
       "      <th>室內游泳池現在人數</th>\n",
       "      <th>室內游泳池最適人數</th>\n",
       "      <th>室內游泳池最大乘載人數</th>\n",
       "    </tr>\n",
       "    <tr>\n",
       "      <th>現在時刻</th>\n",
       "      <th></th>\n",
       "      <th></th>\n",
       "      <th></th>\n",
       "      <th></th>\n",
       "      <th></th>\n",
       "      <th></th>\n",
       "    </tr>\n",
       "  </thead>\n",
       "  <tbody>\n",
       "    <tr>\n",
       "      <th>2020-12-04 12:34</th>\n",
       "      <td>68</td>\n",
       "      <td>82</td>\n",
       "      <td>111</td>\n",
       "      <td>15</td>\n",
       "      <td>42</td>\n",
       "      <td>70</td>\n",
       "    </tr>\n",
       "    <tr>\n",
       "      <th>2020-12-04 12:26</th>\n",
       "      <td>53</td>\n",
       "      <td>82</td>\n",
       "      <td>111</td>\n",
       "      <td>14</td>\n",
       "      <td>42</td>\n",
       "      <td>70</td>\n",
       "    </tr>\n",
       "    <tr>\n",
       "      <th>2020-12-04 12:06</th>\n",
       "      <td>44</td>\n",
       "      <td>82</td>\n",
       "      <td>111</td>\n",
       "      <td>15</td>\n",
       "      <td>42</td>\n",
       "      <td>70</td>\n",
       "    </tr>\n",
       "    <tr>\n",
       "      <th>2020-12-04 11:58</th>\n",
       "      <td>44</td>\n",
       "      <td>82</td>\n",
       "      <td>111</td>\n",
       "      <td>18</td>\n",
       "      <td>42</td>\n",
       "      <td>70</td>\n",
       "    </tr>\n",
       "    <tr>\n",
       "      <th>2020-12-04 11:50</th>\n",
       "      <td>81</td>\n",
       "      <td>82</td>\n",
       "      <td>111</td>\n",
       "      <td>34</td>\n",
       "      <td>42</td>\n",
       "      <td>70</td>\n",
       "    </tr>\n",
       "  </tbody>\n",
       "</table>\n",
       "</div>"
      ],
      "text/plain": [
       "                  健身中心現在人數  健身中心最適人數  健身中心最大乘載人數  室內游泳池現在人數  室內游泳池最適人數  \\\n",
       "現在時刻                                                                     \n",
       "2020-12-04 12:34        68        82         111         15         42   \n",
       "2020-12-04 12:26        53        82         111         14         42   \n",
       "2020-12-04 12:06        44        82         111         15         42   \n",
       "2020-12-04 11:58        44        82         111         18         42   \n",
       "2020-12-04 11:50        81        82         111         34         42   \n",
       "\n",
       "                  室內游泳池最大乘載人數  \n",
       "現在時刻                           \n",
       "2020-12-04 12:34           70  \n",
       "2020-12-04 12:26           70  \n",
       "2020-12-04 12:06           70  \n",
       "2020-12-04 11:58           70  \n",
       "2020-12-04 11:50           70  "
      ]
     },
     "execution_count": 12,
     "metadata": {},
     "output_type": "execute_result"
    }
   ],
   "source": [
    "df = pd.read_csv(\"/home/ubuntu/Python_Codes/work_out_timer/NTU_GYM_Counter.csv\", index_col=\"現在時刻\")\n",
    "df"
   ]
  },
  {
   "cell_type": "code",
   "execution_count": 13,
   "metadata": {},
   "outputs": [
    {
     "data": {
      "text/html": [
       "<div>\n",
       "<style scoped>\n",
       "    .dataframe tbody tr th:only-of-type {\n",
       "        vertical-align: middle;\n",
       "    }\n",
       "\n",
       "    .dataframe tbody tr th {\n",
       "        vertical-align: top;\n",
       "    }\n",
       "\n",
       "    .dataframe thead th {\n",
       "        text-align: right;\n",
       "    }\n",
       "</style>\n",
       "<table border=\"1\" class=\"dataframe\">\n",
       "  <thead>\n",
       "    <tr style=\"text-align: right;\">\n",
       "      <th></th>\n",
       "      <th>健身中心現在人數</th>\n",
       "      <th>健身中心最適人數</th>\n",
       "      <th>健身中心最大乘載人數</th>\n",
       "      <th>室內游泳池現在人數</th>\n",
       "      <th>室內游泳池最適人數</th>\n",
       "      <th>室內游泳池最大乘載人數</th>\n",
       "    </tr>\n",
       "    <tr>\n",
       "      <th>現在時刻</th>\n",
       "      <th></th>\n",
       "      <th></th>\n",
       "      <th></th>\n",
       "      <th></th>\n",
       "      <th></th>\n",
       "      <th></th>\n",
       "    </tr>\n",
       "  </thead>\n",
       "  <tbody>\n",
       "    <tr>\n",
       "      <th>2020-12-04 17:01</th>\n",
       "      <td>79</td>\n",
       "      <td>82</td>\n",
       "      <td>111</td>\n",
       "      <td>59</td>\n",
       "      <td>42</td>\n",
       "      <td>70</td>\n",
       "    </tr>\n",
       "    <tr>\n",
       "      <th>2020-12-04 12:34</th>\n",
       "      <td>68</td>\n",
       "      <td>82</td>\n",
       "      <td>111</td>\n",
       "      <td>15</td>\n",
       "      <td>42</td>\n",
       "      <td>70</td>\n",
       "    </tr>\n",
       "    <tr>\n",
       "      <th>2020-12-04 12:26</th>\n",
       "      <td>53</td>\n",
       "      <td>82</td>\n",
       "      <td>111</td>\n",
       "      <td>14</td>\n",
       "      <td>42</td>\n",
       "      <td>70</td>\n",
       "    </tr>\n",
       "    <tr>\n",
       "      <th>2020-12-04 12:06</th>\n",
       "      <td>44</td>\n",
       "      <td>82</td>\n",
       "      <td>111</td>\n",
       "      <td>15</td>\n",
       "      <td>42</td>\n",
       "      <td>70</td>\n",
       "    </tr>\n",
       "    <tr>\n",
       "      <th>2020-12-04 11:58</th>\n",
       "      <td>44</td>\n",
       "      <td>82</td>\n",
       "      <td>111</td>\n",
       "      <td>18</td>\n",
       "      <td>42</td>\n",
       "      <td>70</td>\n",
       "    </tr>\n",
       "    <tr>\n",
       "      <th>2020-12-04 11:50</th>\n",
       "      <td>81</td>\n",
       "      <td>82</td>\n",
       "      <td>111</td>\n",
       "      <td>34</td>\n",
       "      <td>42</td>\n",
       "      <td>70</td>\n",
       "    </tr>\n",
       "  </tbody>\n",
       "</table>\n",
       "</div>"
      ],
      "text/plain": [
       "                  健身中心現在人數  健身中心最適人數  健身中心最大乘載人數  室內游泳池現在人數  室內游泳池最適人數  \\\n",
       "現在時刻                                                                     \n",
       "2020-12-04 17:01        79        82         111         59         42   \n",
       "2020-12-04 12:34        68        82         111         15         42   \n",
       "2020-12-04 12:26        53        82         111         14         42   \n",
       "2020-12-04 12:06        44        82         111         15         42   \n",
       "2020-12-04 11:58        44        82         111         18         42   \n",
       "2020-12-04 11:50        81        82         111         34         42   \n",
       "\n",
       "                  室內游泳池最大乘載人數  \n",
       "現在時刻                           \n",
       "2020-12-04 17:01           70  \n",
       "2020-12-04 12:34           70  \n",
       "2020-12-04 12:26           70  \n",
       "2020-12-04 12:06           70  \n",
       "2020-12-04 11:58           70  \n",
       "2020-12-04 11:50           70  "
      ]
     },
     "execution_count": 13,
     "metadata": {},
     "output_type": "execute_result"
    }
   ],
   "source": [
    "df = df.append(tmp)\n",
    "df = df.sort_values(by = \"現在時刻\", ascending = False)\n",
    "df"
   ]
  },
  {
   "cell_type": "code",
   "execution_count": 14,
   "metadata": {},
   "outputs": [],
   "source": [
    "# Saving\n",
    "df.to_csv(\"/home/ubuntu/Python_Codes/work_out_timer/NTU_GYM_Counter.csv\")"
   ]
  },
  {
   "cell_type": "markdown",
   "metadata": {},
   "source": [
    "## Graphing"
   ]
  },
  {
   "cell_type": "code",
   "execution_count": 15,
   "metadata": {},
   "outputs": [],
   "source": [
    "#!pip install plotnine"
   ]
  },
  {
   "cell_type": "code",
   "execution_count": 16,
   "metadata": {},
   "outputs": [],
   "source": [
    "import plotnine"
   ]
  },
  {
   "cell_type": "markdown",
   "metadata": {},
   "source": [
    "* scatter plot example\n",
    "\n",
    "```python\n",
    "from plotnine import * #导入plotnine包的绘图函数\n",
    "#from plotnine.data import * #导入plotnine自带的数据集\n",
    "\n",
    "df_plot = pd.read_csv('NTU_GYM_Counter.csv')\n",
    "# Reset Colnames\n",
    "df_plot.columns = [\"Time\", \"GYM_now\", \"GYM_optim\", \"GYM_max\",\n",
    "             \"Pool_now\", \"Pool_optim\", \"Pool_max\"]\n",
    "base_plot = (ggplot(df_plot, aes(x = 'Time', y ='GYM_now')) + \n",
    "             geom_point(size=3,shape='o',colour=\"black\",show_legend=False)+\n",
    "             stat_smooth(method = 'lowess',show_legend=False))\n",
    "print(base_plot)\n",
    "```"
   ]
  },
  {
   "cell_type": "code",
   "execution_count": 17,
   "metadata": {},
   "outputs": [
    {
     "data": {
      "image/png": "[encoded data removed]",
      "text/plain": [
       "<Figure size 640x480 with 1 Axes>"
      ]
     },
     "metadata": {},
     "output_type": "display_data"
    },
    {
     "name": "stdout",
     "output_type": "stream",
     "text": [
      "<ggplot: (17592043944066)>\n"
     ]
    }
   ],
   "source": [
    "# 折線圖\n",
    "from plotnine import *\n",
    "df_plot = pd.read_csv('NTU_GYM_Counter.csv')\n",
    "# Reset Colnames\n",
    "df_plot.columns = [\"Time\", \"GYM_now\", \"GYM_optim\", \"GYM_max\",\n",
    "             \"Pool_now\", \"Pool_optim\", \"Pool_max\"]\n",
    "base_plot = (ggplot(df_plot, aes(x = 'Time', y ='GYM_now', group = 1)) + \n",
    "             geom_line()+\n",
    "             geom_point())\n",
    "print(base_plot)"
   ]
  },
  {
   "cell_type": "markdown",
   "metadata": {},
   "source": [
    "要存下來的圖"
   ]
  },
  {
   "cell_type": "code",
   "execution_count": 18,
   "metadata": {},
   "outputs": [],
   "source": [
    "#df_plot"
   ]
  },
  {
   "cell_type": "code",
   "execution_count": 19,
   "metadata": {},
   "outputs": [],
   "source": [
    "#ggplot(df_plot, aes(x='Time', y='GYM_now', group = 1)) + geom_line()"
   ]
  },
  {
   "cell_type": "code",
   "execution_count": 20,
   "metadata": {},
   "outputs": [
    {
     "name": "stderr",
     "output_type": "stream",
     "text": [
      "/usr/local/lib/python3.8/dist-packages/plotnine/ggplot.py:727: PlotnineWarning: Saving 6.4 x 4.8 in image.\n",
      "/usr/local/lib/python3.8/dist-packages/plotnine/ggplot.py:730: PlotnineWarning: Filename: plot/plot.jpg\n"
     ]
    }
   ],
   "source": [
    "#Usage\n",
    "#save(filename=None, format=None, path=None, width=None, height=None, units='in', dpi=None, limitsize=True, verbose=True, **kwargs)[source]¶\n",
    "base_plot.save(\"/home/ubuntu/Python_Codes/work_out_timer/plot/plot.jpg\")"
   ]
  },
  {
   "cell_type": "markdown",
   "metadata": {},
   "source": [
    "## Sending\n",
    "\n",
    "1. 發送即時數據\n",
    "\n",
    "2. 發送pattern的圖"
   ]
  },
  {
   "cell_type": "code",
   "execution_count": 21,
   "metadata": {},
   "outputs": [],
   "source": [
    "def sendNotification(text = \"\", img_url = \"\"):\n",
    "    \n",
    "    token = \"zTVbyzGgrcE5WOwiUQJoO38UdUYXvL1yI98TGyUDXwR\"\n",
    "\n",
    "    headers = {\n",
    "        \"Authorization\": \"Bearer \" + token,\n",
    "        \"Content-Type\": \"application/x-www-form-urlencoded\"\n",
    "    }\n",
    "    \n",
    "    params = {\"message\": text,\n",
    "              \"imageFullsize\" : img_url,\n",
    "              \"imageThumbnail\": img_url}\n",
    "\n",
    "    r = requests.post(\"https://notify-api.line.me/api/notify\",\n",
    "                      headers=headers, params=params)\n",
    "    print(r.status_code)  #200\n",
    "    print(\"發送Line通知囉！\")\n",
    "    time.sleep(1)"
   ]
  },
  {
   "cell_type": "code",
   "execution_count": 22,
   "metadata": {},
   "outputs": [],
   "source": [
    "#key = '健身中心現在人數'\n",
    "#sendNotification(text = f\"\\n{key} : {count_dict[key]}\", img_url = \"\")"
   ]
  },
  {
   "cell_type": "markdown",
   "metadata": {},
   "source": [
    "### Imgur\n",
    "\n",
    "* ID: 38382bd2f8f7299\n",
    "\n",
    "* Secret: b6941cd41454d9c7d128e5f379536295b372460e"
   ]
  },
  {
   "cell_type": "code",
   "execution_count": 23,
   "metadata": {},
   "outputs": [],
   "source": [
    "#!pip install pyimgur"
   ]
  },
  {
   "cell_type": "markdown",
   "metadata": {},
   "source": [
    "* 參考：https://ithelp.ithome.com.tw/articles/10241006\n",
    "\n",
    "```python\n",
    "# Testing\n",
    "\n",
    "#顯示在imgur的圖片\n",
    "import pyimgur\n",
    "\n",
    "CLIENT_ID = \"38382bd2f8f7299\"\n",
    "im = pyimgur.Imgur(CLIENT_ID)\n",
    "image = im.get_image('f1WHMuW')\n",
    "\n",
    "print(image.title) \n",
    "print(image.link)\n",
    "```"
   ]
  },
  {
   "cell_type": "code",
   "execution_count": 24,
   "metadata": {},
   "outputs": [
    {
     "name": "stdout",
     "output_type": "stream",
     "text": [
      "Uploaded with PyImgur\n",
      "https://i.imgur.com/piTkt3F.jpg\n",
      "image/jpeg\n"
     ]
    }
   ],
   "source": [
    "# Uploading\n",
    "\n",
    "import pyimgur\n",
    "\n",
    "CLIENT_ID = \"38382bd2f8f7299\"\n",
    "PATH = \"/home/ubuntu/Python_Codes/work_out_timer/plot/plot.jpg\" #A Filepath to an image on your computer\"\n",
    "title = \"Uploaded with PyImgur\"\n",
    "\n",
    "im = pyimgur.Imgur(CLIENT_ID)\n",
    "uploaded_image = im.upload_image(PATH, title=title)\n",
    "print(uploaded_image.title)\n",
    "print(uploaded_image.link)\n",
    "print(uploaded_image.type)"
   ]
  },
  {
   "cell_type": "code",
   "execution_count": 25,
   "metadata": {},
   "outputs": [
    {
     "name": "stdout",
     "output_type": "stream",
     "text": [
      "200\n",
      "發送Line通知囉！\n"
     ]
    }
   ],
   "source": [
    "key = '健身中心現在人數'\n",
    "sendNotification(text = f\"\\n{key} : {count_dict[key]}\", \n",
    "                 img_url = uploaded_image.link)"
   ]
  },
  {
   "cell_type": "code",
   "execution_count": 1,
   "metadata": {},
   "outputs": [
    {
     "ename": "NameError",
     "evalue": "name 'driver' is not defined",
     "output_type": "error",
     "traceback": [
      "\u001b[0;31m---------------------------------------------------------------------------\u001b[0m",
      "\u001b[0;31mNameError\u001b[0m                                 Traceback (most recent call last)",
      "\u001b[0;32m<ipython-input-1-ad0c9a213c39>\u001b[0m in \u001b[0;36m<module>\u001b[0;34m\u001b[0m\n\u001b[0;32m----> 1\u001b[0;31m \u001b[0mdriver\u001b[0m\u001b[0;34m.\u001b[0m\u001b[0mclose\u001b[0m\u001b[0;34m(\u001b[0m\u001b[0;34m)\u001b[0m\u001b[0;34m\u001b[0m\u001b[0;34m\u001b[0m\u001b[0m\n\u001b[0m",
      "\u001b[0;31mNameError\u001b[0m: name 'driver' is not defined"
     ]
    }
   ],
   "source": [
    "driver.close()"
   ]
  },
  {
   "cell_type": "code",
   "execution_count": null,
   "metadata": {},
   "outputs": [],
   "source": []
  }
 ],
 "metadata": {
  "kernelspec": {
   "display_name": "Python 3",
   "language": "python",
   "name": "python3"
  },
  "language_info": {
   "codemirror_mode": {
    "name": "ipython",
    "version": 3
   },
   "file_extension": ".py",
   "mimetype": "text/x-python",
   "name": "python",
   "nbconvert_exporter": "python",
   "pygments_lexer": "ipython3",
   "version": "3.8.6"
  }
 },
 "nbformat": 4,
 "nbformat_minor": 4
}
